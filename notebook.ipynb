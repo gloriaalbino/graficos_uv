{
 "cells": [
  {
   "cell_type": "markdown",
   "metadata": {},
   "source": [
    "# Libraries"
   ]
  },
  {
   "cell_type": "code",
   "execution_count": 5,
   "metadata": {},
   "outputs": [],
   "source": [
    "import matplotlib.pyplot as plt\n",
    "import pandas as pd\n",
    "from scipy.signal import savgol_filter\n",
    "import os\n",
    "from ipywidgets import interact, widgets"
   ]
  },
  {
   "cell_type": "markdown",
   "metadata": {},
   "source": [
    "# Metodo para graficar"
   ]
  },
  {
   "cell_type": "code",
   "execution_count": 6,
   "metadata": {},
   "outputs": [],
   "source": [
    "def plot_csv_data(files, window_length, polyorder, title, ):\n",
    "    plt.figure(figsize=(10, 6))\n",
    "    \n",
    "    for i, file in enumerate(files):\n",
    "        data = pd.read_csv(file)\n",
    "        x = data['Wavelength (nm)']\n",
    "        y = data['Absorbance (AU)']/(0.01*0.005)\n",
    "        \n",
    "        # Aplicar suavizado\n",
    "        y_smooth = savgol_filter(y, window_length, polyorder)\n",
    "        \n",
    "        plt.plot(x, y_smooth, linewidth=0.5)  # Ajustar el grosor de la línea aquí\n",
    "    \n",
    "    plt.xlabel('longitud de onda (nm)')\n",
    "    plt.ylabel('Absortividad molar')\n",
    "    plt.title(title)\n",
    "    # plt.ylim(y_min, y_max)  # Definir el rango del eje Y\n",
    "    plt.legend()\n",
    "    plt.show()\n",
    "\n"
   ]
  },
  {
   "cell_type": "markdown",
   "metadata": {},
   "source": [
    "# 1L-1M ACIDO DIPICOLINICO"
   ]
  },
  {
   "cell_type": "code",
   "execution_count": 7,
   "metadata": {},
   "outputs": [
    {
     "data": {
      "application/vnd.jupyter.widget-view+json": {
       "model_id": "915bef8156df4995909b4a1f0de37da8",
       "version_major": 2,
       "version_minor": 0
      },
      "text/plain": [
       "interactive(children=(SelectMultiple(description='Archivos CSV', index=(0, 1, 2, 3, 4, 5, 6, 7, 8, 9, 10, 11, …"
      ]
     },
     "metadata": {},
     "output_type": "display_data"
    },
    {
     "data": {
      "text/plain": [
       "<function __main__.plot_csv_data(files, window_length, polyorder, title)>"
      ]
     },
     "execution_count": 7,
     "metadata": {},
     "output_type": "execute_result"
    }
   ],
   "source": [
    "csv_files = os.listdir(\"1L-1M DIPIC\")\n",
    "csv_files = list(map(lambda x: f\"1L-1M DIPIC/{x}\", csv_files))\n",
    "\n",
    "# Interfaz interactiva para seleccionar archivos\n",
    "file_selector = widgets.SelectMultiple(\n",
    "    options=csv_files,\n",
    "    value=csv_files,\n",
    "    description='Archivos CSV',\n",
    "    disabled=False\n",
    ")\n",
    "\n",
    "\n",
    "# Widgets para parámetros de suavizado\n",
    "window_length_selector = widgets.IntSlider(\n",
    "    value=51,\n",
    "    min=3,\n",
    "    max=101,\n",
    "    step=2,\n",
    "    description='Window Length',\n",
    "    disabled=False\n",
    ")\n",
    "\n",
    "polyorder_selector = widgets.IntSlider(\n",
    "    value=3,\n",
    "    min=1,\n",
    "    max=5,\n",
    "    step=1,\n",
    "    description='Polyorder',\n",
    "    disabled=False\n",
    ")\n",
    "\n",
    "interact(plot_csv_data, files=file_selector,\n",
    "         window_length=window_length_selector, polyorder=polyorder_selector, title = \"1L-1M ACIDO DIPICOLINICO\")"
   ]
  },
  {
   "cell_type": "markdown",
   "metadata": {},
   "source": [
    "# 2L-1M ACIDO DIPICOLINICO"
   ]
  },
  {
   "cell_type": "code",
   "execution_count": 8,
   "metadata": {},
   "outputs": [
    {
     "data": {
      "application/vnd.jupyter.widget-view+json": {
       "model_id": "c171c911f9c74e6189b4e8aad6211b1a",
       "version_major": 2,
       "version_minor": 0
      },
      "text/plain": [
       "interactive(children=(SelectMultiple(description='Archivos CSV', index=(0, 1, 2, 3, 4, 5, 6, 7, 8, 9, 10, 11, …"
      ]
     },
     "metadata": {},
     "output_type": "display_data"
    },
    {
     "data": {
      "text/plain": [
       "<function __main__.plot_csv_data(files, window_length, polyorder, title)>"
      ]
     },
     "execution_count": 8,
     "metadata": {},
     "output_type": "execute_result"
    }
   ],
   "source": [
    "csv_files = os.listdir(\"2L-1M DIPIC\")\n",
    "csv_files = list(map(lambda x: f\"2L-1M DIPIC/{x}\", csv_files))\n",
    "\n",
    "# Interfaz interactiva para seleccionar archivos\n",
    "file_selector = widgets.SelectMultiple(\n",
    "    options=csv_files,\n",
    "    value=csv_files,\n",
    "    description='Archivos CSV',\n",
    "    disabled=False\n",
    ")\n",
    "\n",
    "\n",
    "# Widgets para parámetros de suavizado\n",
    "window_length_selector = widgets.IntSlider(\n",
    "    value=51,\n",
    "    min=3,\n",
    "    max=101,\n",
    "    step=2,\n",
    "    description='Window Length',\n",
    "    disabled=False\n",
    ")\n",
    "\n",
    "polyorder_selector = widgets.IntSlider(\n",
    "    value=3,\n",
    "    min=1,\n",
    "    max=5,\n",
    "    step=1,\n",
    "    description='Polyorder',\n",
    "    disabled=False\n",
    ")\n",
    "\n",
    "interact(plot_csv_data, files=file_selector,\n",
    "         window_length=window_length_selector, polyorder=polyorder_selector, title = \"2L-1M ACIDO DIPICOLINICO\")"
   ]
  },
  {
   "cell_type": "markdown",
   "metadata": {},
   "source": [
    "# 4L-1M ACIDO DIPICOLINICO"
   ]
  },
  {
   "cell_type": "code",
   "execution_count": 9,
   "metadata": {},
   "outputs": [
    {
     "data": {
      "application/vnd.jupyter.widget-view+json": {
       "model_id": "3d8f6f3f47be45e189797c77cc1b4b35",
       "version_major": 2,
       "version_minor": 0
      },
      "text/plain": [
       "interactive(children=(SelectMultiple(description='Archivos CSV', index=(0, 1, 2, 3, 4, 5, 6, 7, 8, 9, 10, 11, …"
      ]
     },
     "metadata": {},
     "output_type": "display_data"
    },
    {
     "data": {
      "text/plain": [
       "<function __main__.plot_csv_data(files, window_length, polyorder, title)>"
      ]
     },
     "execution_count": 9,
     "metadata": {},
     "output_type": "execute_result"
    }
   ],
   "source": [
    "csv_files = os.listdir(\"4L-1M DIPIC\")\n",
    "csv_files = list(map(lambda x: f\"4L-1M DIPIC/{x}\", csv_files))\n",
    "\n",
    "# Interfaz interactiva para seleccionar archivos\n",
    "file_selector = widgets.SelectMultiple(\n",
    "    options=csv_files,\n",
    "    value=csv_files,\n",
    "    description='Archivos CSV',\n",
    "    disabled=False\n",
    ")\n",
    "\n",
    "\n",
    "# Widgets para parámetros de suavizado\n",
    "window_length_selector = widgets.IntSlider(\n",
    "    value=51,\n",
    "    min=3,\n",
    "    max=101,\n",
    "    step=2,\n",
    "    description='Window Length',\n",
    "    disabled=False\n",
    ")\n",
    "\n",
    "polyorder_selector = widgets.IntSlider(\n",
    "    value=3,\n",
    "    min=1,\n",
    "    max=5,\n",
    "    step=1,\n",
    "    description='Polyorder',\n",
    "    disabled=False\n",
    ")\n",
    "\n",
    "interact(plot_csv_data, files=file_selector,\n",
    "         window_length=window_length_selector, polyorder=polyorder_selector, title = \"4L-1M ACIDO DIPICOLINICO\")"
   ]
  },
  {
   "cell_type": "markdown",
   "metadata": {},
   "source": [
    "# 1L-1M ACIDO PICOLINICO"
   ]
  },
  {
   "cell_type": "code",
   "execution_count": 10,
   "metadata": {},
   "outputs": [
    {
     "data": {
      "application/vnd.jupyter.widget-view+json": {
       "model_id": "c677bc00bd474eeba93f160c8c810652",
       "version_major": 2,
       "version_minor": 0
      },
      "text/plain": [
       "interactive(children=(SelectMultiple(description='Archivos CSV', index=(0, 1, 2, 3, 4, 5, 6, 7, 8, 9, 10, 11, …"
      ]
     },
     "metadata": {},
     "output_type": "display_data"
    },
    {
     "data": {
      "text/plain": [
       "<function __main__.plot_csv_data(files, window_length, polyorder, title)>"
      ]
     },
     "execution_count": 10,
     "metadata": {},
     "output_type": "execute_result"
    }
   ],
   "source": [
    "csv_files = os.listdir(\"1L-1M PIC\")\n",
    "csv_files = list(map(lambda x: f\"1L-1M PIC/{x}\", csv_files))\n",
    "\n",
    "# Interfaz interactiva para seleccionar archivos\n",
    "file_selector = widgets.SelectMultiple(\n",
    "    options=csv_files,\n",
    "    value=csv_files,\n",
    "    description='Archivos CSV',\n",
    "    disabled=False\n",
    ")\n",
    "\n",
    "\n",
    "# Widgets para parámetros de suavizado\n",
    "window_length_selector = widgets.IntSlider(\n",
    "    value=51,\n",
    "    min=3,\n",
    "    max=101,\n",
    "    step=2,\n",
    "    description='Window Length',\n",
    "    disabled=False\n",
    ")\n",
    "\n",
    "polyorder_selector = widgets.IntSlider(\n",
    "    value=3,\n",
    "    min=1,\n",
    "    max=5,\n",
    "    step=1,\n",
    "    description='Polyorder',\n",
    "    disabled=False\n",
    ")\n",
    "\n",
    "interact(plot_csv_data, files=file_selector,\n",
    "         window_length=window_length_selector, polyorder=polyorder_selector, title = \"1L-1M ACIDO PICOLINICO\")"
   ]
  },
  {
   "cell_type": "markdown",
   "metadata": {},
   "source": [
    "# 2L-1M ACIDO PICOLINICO"
   ]
  },
  {
   "cell_type": "code",
   "execution_count": 11,
   "metadata": {},
   "outputs": [
    {
     "data": {
      "application/vnd.jupyter.widget-view+json": {
       "model_id": "f4f088bba66243a2afc67c27650ab810",
       "version_major": 2,
       "version_minor": 0
      },
      "text/plain": [
       "interactive(children=(SelectMultiple(description='Archivos CSV', index=(0, 1, 2, 3, 4, 5, 6, 7, 8, 9, 10, 11, …"
      ]
     },
     "metadata": {},
     "output_type": "display_data"
    },
    {
     "data": {
      "text/plain": [
       "<function __main__.plot_csv_data(files, window_length, polyorder, title)>"
      ]
     },
     "execution_count": 11,
     "metadata": {},
     "output_type": "execute_result"
    }
   ],
   "source": [
    "csv_files = os.listdir(\"2L-1M PIC\")\n",
    "csv_files = list(map(lambda x: f\"2L-1M PIC/{x}\", csv_files))\n",
    "\n",
    "# Interfaz interactiva para seleccionar archivos\n",
    "file_selector = widgets.SelectMultiple(\n",
    "    options=csv_files,\n",
    "    value=csv_files,\n",
    "    description='Archivos CSV',\n",
    "    disabled=False\n",
    ")\n",
    "\n",
    "\n",
    "# Widgets para parámetros de suavizado\n",
    "window_length_selector = widgets.IntSlider(\n",
    "    value=51,\n",
    "    min=3,\n",
    "    max=101,\n",
    "    step=2,\n",
    "    description='Window Length',\n",
    "    disabled=False\n",
    ")\n",
    "\n",
    "polyorder_selector = widgets.IntSlider(\n",
    "    value=3,\n",
    "    min=1,\n",
    "    max=5,\n",
    "    step=1,\n",
    "    description='Polyorder',\n",
    "    disabled=False\n",
    ")\n",
    "\n",
    "interact(plot_csv_data, files=file_selector,\n",
    "         window_length=window_length_selector, polyorder=polyorder_selector, title = \"2L-1M ACIDO PICOLINICO\")"
   ]
  },
  {
   "cell_type": "markdown",
   "metadata": {},
   "source": [
    "# 4L-1M ACIDO PICOLINICO"
   ]
  },
  {
   "cell_type": "code",
   "execution_count": 12,
   "metadata": {},
   "outputs": [
    {
     "data": {
      "application/vnd.jupyter.widget-view+json": {
       "model_id": "1bb2edda34ec4f9cb67903157600033d",
       "version_major": 2,
       "version_minor": 0
      },
      "text/plain": [
       "interactive(children=(SelectMultiple(description='Archivos CSV', index=(0, 1, 2, 3, 4, 5, 6, 7, 8, 9, 10, 11, …"
      ]
     },
     "metadata": {},
     "output_type": "display_data"
    },
    {
     "data": {
      "text/plain": [
       "<function __main__.plot_csv_data(files, window_length, polyorder, title)>"
      ]
     },
     "execution_count": 12,
     "metadata": {},
     "output_type": "execute_result"
    }
   ],
   "source": [
    "csv_files = os.listdir(\"4L-1M PIC\")\n",
    "csv_files = list(map(lambda x: f\"4L-1M PIC/{x}\", csv_files))\n",
    "\n",
    "# Interfaz interactiva para seleccionar archivos\n",
    "file_selector = widgets.SelectMultiple(\n",
    "    options=csv_files,\n",
    "    value=csv_files,\n",
    "    description='Archivos CSV',\n",
    "    disabled=False\n",
    ")\n",
    "\n",
    "\n",
    "# Widgets para parámetros de suavizado\n",
    "window_length_selector = widgets.IntSlider(\n",
    "    value=51,\n",
    "    min=3,\n",
    "    max=101,\n",
    "    step=2,\n",
    "    description='Window Length',\n",
    "    disabled=False\n",
    ")\n",
    "\n",
    "polyorder_selector = widgets.IntSlider(\n",
    "    value=3,\n",
    "    min=1,\n",
    "    max=5,\n",
    "    step=1,\n",
    "    description='Polyorder',\n",
    "    disabled=False\n",
    ")\n",
    "\n",
    "interact(plot_csv_data, files=file_selector,\n",
    "         window_length=window_length_selector, polyorder=polyorder_selector, title = \"4L-1M ACIDO PICOLINICO\")"
   ]
  },
  {
   "cell_type": "markdown",
   "metadata": {},
   "source": [
    "# ACIDO PICOLINICO"
   ]
  },
  {
   "cell_type": "code",
   "execution_count": 13,
   "metadata": {},
   "outputs": [
    {
     "data": {
      "application/vnd.jupyter.widget-view+json": {
       "model_id": "14f236ffb4f543bf828a73b9962d5f4c",
       "version_major": 2,
       "version_minor": 0
      },
      "text/plain": [
       "interactive(children=(SelectMultiple(description='Archivos CSV', index=(0,), options=('acido picolinico/pic0-4…"
      ]
     },
     "metadata": {},
     "output_type": "display_data"
    },
    {
     "data": {
      "text/plain": [
       "<function __main__.plot_csv_data(files, window_length, polyorder, title)>"
      ]
     },
     "execution_count": 13,
     "metadata": {},
     "output_type": "execute_result"
    }
   ],
   "source": [
    "csv_files = os.listdir(\"acido picolinico\")\n",
    "csv_files = list(map(lambda x: f\"acido picolinico/{x}\", csv_files))\n",
    "\n",
    "# Interfaz interactiva para seleccionar archivos\n",
    "file_selector = widgets.SelectMultiple(\n",
    "    options=csv_files,\n",
    "    value=csv_files,\n",
    "    description='Archivos CSV',\n",
    "    disabled=False\n",
    ")\n",
    "\n",
    "\n",
    "# Widgets para parámetros de suavizado\n",
    "window_length_selector = widgets.IntSlider(\n",
    "    value=51,\n",
    "    min=3,\n",
    "    max=101,\n",
    "    step=2,\n",
    "    description='Window Length',\n",
    "    disabled=False\n",
    ")\n",
    "\n",
    "polyorder_selector = widgets.IntSlider(\n",
    "    value=3,\n",
    "    min=1,\n",
    "    max=5,\n",
    "    step=1,\n",
    "    description='Polyorder',\n",
    "    disabled=False\n",
    ")\n",
    "\n",
    "interact(plot_csv_data, files=file_selector,\n",
    "         window_length=window_length_selector, polyorder=polyorder_selector, title = \"acido picolinico\")"
   ]
  },
  {
   "cell_type": "markdown",
   "metadata": {},
   "source": [
    "# ACIDO DIPICOLINICO"
   ]
  },
  {
   "cell_type": "code",
   "execution_count": 14,
   "metadata": {},
   "outputs": [
    {
     "data": {
      "application/vnd.jupyter.widget-view+json": {
       "model_id": "d9aa8852e54b4d30939304cb04e3e6eb",
       "version_major": 2,
       "version_minor": 0
      },
      "text/plain": [
       "interactive(children=(SelectMultiple(description='Archivos CSV', index=(0,), options=('acido dipicolinico/dip0…"
      ]
     },
     "metadata": {},
     "output_type": "display_data"
    },
    {
     "data": {
      "text/plain": [
       "<function __main__.plot_csv_data(files, window_length, polyorder, title)>"
      ]
     },
     "execution_count": 14,
     "metadata": {},
     "output_type": "execute_result"
    }
   ],
   "source": [
    "csv_files = os.listdir(\"acido dipicolinico\")\n",
    "csv_files = list(map(lambda x: f\"acido dipicolinico/{x}\", csv_files))\n",
    "\n",
    "# Interfaz interactiva para seleccionar archivos\n",
    "file_selector = widgets.SelectMultiple(\n",
    "    options=csv_files,\n",
    "    value=csv_files,\n",
    "    description='Archivos CSV',\n",
    "    disabled=False\n",
    ")\n",
    "\n",
    "\n",
    "# Widgets para parámetros de suavizado\n",
    "window_length_selector = widgets.IntSlider(\n",
    "    value=51,\n",
    "    min=3,\n",
    "    max=101,\n",
    "    step=2,\n",
    "    description='Window Length',\n",
    "    disabled=False\n",
    ")\n",
    "\n",
    "polyorder_selector = widgets.IntSlider(\n",
    "    value=3,\n",
    "    min=1,\n",
    "    max=5,\n",
    "    step=1,\n",
    "    description='Polyorder',\n",
    "    disabled=False\n",
    ")\n",
    "\n",
    "interact(plot_csv_data, files=file_selector,\n",
    "         window_length=window_length_selector, polyorder=polyorder_selector, title = \"acido dipicolinico\")"
   ]
  },
  {
   "cell_type": "code",
   "execution_count": null,
   "metadata": {},
   "outputs": [],
   "source": []
  },
  {
   "cell_type": "code",
   "execution_count": null,
   "metadata": {},
   "outputs": [],
   "source": []
  },
  {
   "cell_type": "code",
   "execution_count": null,
   "metadata": {},
   "outputs": [],
   "source": []
  }
 ],
 "metadata": {
  "kernelspec": {
   "display_name": ".venv",
   "language": "python",
   "name": "python3"
  },
  "language_info": {
   "codemirror_mode": {
    "name": "ipython",
    "version": 3
   },
   "file_extension": ".py",
   "mimetype": "text/x-python",
   "name": "python",
   "nbconvert_exporter": "python",
   "pygments_lexer": "ipython3",
   "version": "3.9.6"
  }
 },
 "nbformat": 4,
 "nbformat_minor": 2
}
